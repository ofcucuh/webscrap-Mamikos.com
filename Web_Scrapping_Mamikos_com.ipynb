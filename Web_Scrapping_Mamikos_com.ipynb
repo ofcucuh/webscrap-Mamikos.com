{
  "cells": [
    {
      "cell_type": "markdown",
      "metadata": {
        "id": "view-in-github",
        "colab_type": "text"
      },
      "source": [
        "<a href=\"https://colab.research.google.com/github/ofcucuh/webscrap-Mamikos.com/blob/main/Web_Scrapping_Mamikos_com.ipynb\" target=\"_parent\"><img src=\"https://colab.research.google.com/assets/colab-badge.svg\" alt=\"Open In Colab\"/></a>"
      ]
    },
    {
      "cell_type": "code",
      "execution_count": 1,
      "metadata": {
        "collapsed": true,
        "id": "7NA6tjoEgn9A",
        "colab": {
          "base_uri": "https://localhost:8080/"
        },
        "outputId": "ff4196e9-c506-40c0-a7d9-5b0b098e9b25"
      },
      "outputs": [
        {
          "output_type": "stream",
          "name": "stdout",
          "text": [
            "Requirement already satisfied: selenium in /usr/local/lib/python3.11/dist-packages (4.28.1)\n",
            "Requirement already satisfied: urllib3<3,>=1.26 in /usr/local/lib/python3.11/dist-packages (from urllib3[socks]<3,>=1.26->selenium) (2.3.0)\n",
            "Requirement already satisfied: trio~=0.17 in /usr/local/lib/python3.11/dist-packages (from selenium) (0.28.0)\n",
            "Requirement already satisfied: trio-websocket~=0.9 in /usr/local/lib/python3.11/dist-packages (from selenium) (0.11.1)\n",
            "Requirement already satisfied: certifi>=2021.10.8 in /usr/local/lib/python3.11/dist-packages (from selenium) (2024.12.14)\n",
            "Requirement already satisfied: typing_extensions~=4.9 in /usr/local/lib/python3.11/dist-packages (from selenium) (4.12.2)\n",
            "Requirement already satisfied: websocket-client~=1.8 in /usr/local/lib/python3.11/dist-packages (from selenium) (1.8.0)\n",
            "Requirement already satisfied: attrs>=23.2.0 in /usr/local/lib/python3.11/dist-packages (from trio~=0.17->selenium) (25.1.0)\n",
            "Requirement already satisfied: sortedcontainers in /usr/local/lib/python3.11/dist-packages (from trio~=0.17->selenium) (2.4.0)\n",
            "Requirement already satisfied: idna in /usr/local/lib/python3.11/dist-packages (from trio~=0.17->selenium) (3.10)\n",
            "Requirement already satisfied: outcome in /usr/local/lib/python3.11/dist-packages (from trio~=0.17->selenium) (1.3.0.post0)\n",
            "Requirement already satisfied: sniffio>=1.3.0 in /usr/local/lib/python3.11/dist-packages (from trio~=0.17->selenium) (1.3.1)\n",
            "Requirement already satisfied: wsproto>=0.14 in /usr/local/lib/python3.11/dist-packages (from trio-websocket~=0.9->selenium) (1.2.0)\n",
            "Requirement already satisfied: pysocks!=1.5.7,<2.0,>=1.5.6 in /usr/local/lib/python3.11/dist-packages (from urllib3[socks]<3,>=1.26->selenium) (1.7.1)\n",
            "Requirement already satisfied: h11<1,>=0.9.0 in /usr/local/lib/python3.11/dist-packages (from wsproto>=0.14->trio-websocket~=0.9->selenium) (0.14.0)\n"
          ]
        }
      ],
      "source": [
        "!pip install selenium"
      ]
    },
    {
      "cell_type": "code",
      "execution_count": 2,
      "metadata": {
        "id": "J43en5ySgVkA"
      },
      "outputs": [],
      "source": [
        "import time\n",
        "\n",
        "from selenium import webdriver\n",
        "from selenium.webdriver import ActionChains\n",
        "from selenium.webdriver.common.by import By\n",
        "from selenium.webdriver.chrome.options import Options\n",
        "from selenium.webdriver.support.ui import WebDriverWait\n",
        "from selenium.webdriver.support import expected_conditions as EC\n",
        "import re\n",
        "import requests\n",
        "import json\n",
        "import pandas as pd\n",
        "\n",
        "options = Options()\n",
        "options.add_argument(\"--headless\")\n",
        "options.add_argument(\"--no-sandbox\")\n",
        "options.add_argument(\"--disable-dev-shm-usage\")\n",
        "options.add_argument(\"--disable-gpu\")\n",
        "options.add_argument(\"--disable-extensions\")\n",
        "options.add_argument(\"--disable-infobars\")\n",
        "options.add_argument(\"--disable-notifications\")\n",
        "options.add_argument(\"--disable-popup-blocking\")"
      ]
    },
    {
      "cell_type": "code",
      "execution_count": 3,
      "metadata": {
        "id": "KwzT2dj_6IxH"
      },
      "outputs": [],
      "source": [
        "from bs4 import BeautifulSoup\n",
        "\n",
        "def get_detail(response, url, kost_data=None):\n",
        "    headers = {\n",
        "      \"User-Agent\": \"Mozilla/5.0 (Windows NT 10.0; Win64; x64) AppleWebKit/537.36 (KHTML, like Gecko) Chrome/109.0.0.0 Safari/537.36\",\n",
        "      \"Accept-Language\": \"en-US,en;q=0.9\",\n",
        "      \"Connection\": \"keep-alive\"\n",
        "    }\n",
        "\n",
        "    soup = BeautifulSoup(response.text, \"html.parser\")\n",
        "    script_tags = soup.find_all(\"script\", string=re.compile(r\"var detail =\"))\n",
        "    jsonDataDetail = None\n",
        "\n",
        "    #ambil js yang ada di tag <script> setelah akses ke url\n",
        "    for script in script_tags:\n",
        "        script_content = script.string\n",
        "        match = re.search(r\"var detail = (\\{.*\\});\", script_content)\n",
        "        if match:\n",
        "            detail_json_str = match.group(1)\n",
        "            detail_data = json.loads(detail_json_str)\n",
        "            jsonDataDetail = detail_data\n",
        "            break\n",
        "\n",
        "    if not jsonDataDetail:\n",
        "        print(\"Tidak dapat menemukan detail data.\")\n",
        "        print(url)\n",
        "        kost_data[\"status_cek\"] = \"FAIL LAGI\"\n",
        "        return kost_data\n",
        "\n",
        "    id_kost = jsonDataDetail.get(\"_id\")\n",
        "    if not id_kost:\n",
        "        kost_data[\"status_cek\"] = \"FAIL LAGI\"\n",
        "        print(\"ID kost tidak ditemukan.\")\n",
        "        return kost_data\n",
        "\n",
        "    # akses url review\n",
        "    urlReview = f\"https://mamikos.com/garuda/stories/{id_kost}/reviews\"\n",
        "    responseReview = requests.get(urlReview, headers=headers)\n",
        "    reviewData = None\n",
        "\n",
        "    if responseReview.status_code == 200:\n",
        "        try:\n",
        "            data = responseReview.json()\n",
        "            reviewData = data\n",
        "        except json.JSONDecodeError:\n",
        "            print(\"Respons dari server bukan JSON:\")\n",
        "            print(responseReview.text)\n",
        "    else:\n",
        "        print(f\"Request gagal dengan status code: {responseReview.status_code}\")\n",
        "\n",
        "    #proses datanya\n",
        "    fasilitas = {}\n",
        "\n",
        "    fasilitas[\"kamar\"] = jsonDataDetail.get(\"fac_room\", \"Tidak ada data\")\n",
        "    fasilitas[\"umum\"] = jsonDataDetail.get(\"fac_share\", \"Tidak ada data\")\n",
        "    fasilitas[\"kamar_mandi\"] = jsonDataDetail.get(\"fac_bath\", \"Tidak ada data\")\n",
        "    fasilitas[\"parkir\"] = jsonDataDetail.get(\"fac_park\", \"Tidak ada data\")\n",
        "    deskripsi = jsonDataDetail.get(\"description\", \"Tidak ada deskripsi\")\n",
        "    deskripsi_add = jsonDataDetail.get(\"remarks\", \"Tidak ada tambahan\")\n",
        "\n",
        "    harga = {\n",
        "        \"harian\": jsonDataDetail.get(\"price_daily\", \"Tidak ada harga\"),\n",
        "        \"mingguan\": jsonDataDetail.get(\"price_weekly\", \"Tidak ada harga\"),\n",
        "        \"bulanan\": jsonDataDetail.get(\"price_monthly\", \"Tidak ada harga\"),\n",
        "        \"3_bulan\": jsonDataDetail.get(\"price_quarterly\", \"Tidak ada harga\"),\n",
        "        \"6_bulan\": jsonDataDetail.get(\"price_semiannualy\", \"Tidak ada harga\"),\n",
        "        \"tahun\": jsonDataDetail.get(\"price_yearly\", \"Tidak ada harga\"),\n",
        "    }\n",
        "\n",
        "    kost_data[\"review\"] = reviewData[\"all_rating\"]\n",
        "    kost_data[\"fasilitas\"] = fasilitas\n",
        "    kost_data[\"deskripsi\"] = deskripsi\n",
        "    kost_data[\"deskripsi_additional\"] = deskripsi_add\n",
        "    kost_data[\"harga_kost\"] = harga\n",
        "    kost_data[\"ukuran\"] = jsonDataDetail.get(\"size\", \"Tidak ada ukuran\")\n",
        "    kost_data[\"url\"] = url\n",
        "    return kost_data\n"
      ]
    },
    {
      "cell_type": "code",
      "execution_count": null,
      "metadata": {
        "id": "-wGIQUp1-qhD"
      },
      "outputs": [],
      "source": [
        "# test ambil data detail\n",
        "# get_detail(\"https://mamikos.com/room/kost-kota-bandung-kost-campur-murah-kost-apik-mekar-ii-padasuka-tipe-a-cibeunying-kidul-bandung-2\")"
      ]
    },
    {
      "cell_type": "code",
      "execution_count": 4,
      "metadata": {
        "id": "Vquaw1_vVM6U"
      },
      "outputs": [],
      "source": [
        "# buat variabel global biar inget\n",
        "kost_data = []\n",
        "new_kost_data = []"
      ]
    },
    {
      "cell_type": "code",
      "execution_count": 5,
      "metadata": {
        "collapsed": true,
        "id": "EhE9a_k5Fc4w"
      },
      "outputs": [],
      "source": [
        "def getPageData(url,area,kota):\n",
        "  driver = webdriver.Chrome(options=options)\n",
        "  all_kost_data = []\n",
        "  try:\n",
        "    #sorting & filtering mamikos\n",
        "      driver.get(url+\"?gender=0,1,2&rent=2&sort=price,asc&price=10000-10000000&singgahsini=0\")\n",
        "      print(\"Menunggu elemen 'room-list__card' muncul...\")\n",
        "      WebDriverWait(driver, 5).until(\n",
        "          EC.presence_of_element_located((By.CLASS_NAME, \"room-list__card\"))\n",
        "      )\n",
        "      WebDriverWait(driver, 0.5).until(\n",
        "          EC.presence_of_element_located((By.CLASS_NAME, \"pagination\"))\n",
        "      )\n",
        "\n",
        "      slider_div = driver.find_element(By.CLASS_NAME, \"custom-range-container\")\n",
        "      slider = slider_div.find_element(By.TAG_NAME, \"input\")\n",
        "      actions = ActionChains(driver)\n",
        "\n",
        "      #ubah ke 1KM\n",
        "      actions.click_and_hold(slider).move_by_offset(-350, 0).release().perform()\n",
        "\n",
        "      WebDriverWait(driver, 5).until(\n",
        "          EC.presence_of_element_located((By.CLASS_NAME, \"room-list__card\"))\n",
        "      )\n",
        "\n",
        "      #scroll sampe muncul popup\n",
        "      while True:\n",
        "          driver.execute_script(\"window.scrollBy(0,100);\")\n",
        "          try:\n",
        "              popup = driver.find_element(By.CLASS_NAME, \"popper-ftue\")\n",
        "              if popup.is_displayed():\n",
        "                  print(\"Popup appeared!\")\n",
        "                  popupBtn = popup.find_element(By.CLASS_NAME, \"popper-ftue__content-button\")\n",
        "                  popupBtn.click()\n",
        "                  break\n",
        "          except:\n",
        "              pass\n",
        "          time.sleep(0.3)\n",
        "\n",
        "      #cek elmen pagination\n",
        "      next_element = driver.find_element(By.CLASS_NAME, \"pagination\")\n",
        "      next = next_element.find_elements(By.TAG_NAME, \"li\")\n",
        "      last_element = next[-1]\n",
        "      i=0\n",
        "\n",
        "      #proses data\n",
        "      while True:\n",
        "          if \"disabled\" in last_element.get_attribute(\"class\"):\n",
        "              break\n",
        "          WebDriverWait(driver, 5).until(\n",
        "              EC.presence_of_element_located((By.CLASS_NAME, \"room-list-container\"))\n",
        "          )\n",
        "          kost_elements = driver.find_elements(By.CLASS_NAME, \"room-list__card\")\n",
        "          for kost in kost_elements:\n",
        "                jenis_kost = \"tanpa-jenis\"\n",
        "                #ambil jenis berdasarkan iconnya\n",
        "                try:\n",
        "                    WebDriverWait(driver, 3).until(\n",
        "                        EC.presence_of_element_located((By.CLASS_NAME, \"rc-photo__controlled-room\"))\n",
        "                    )\n",
        "                    jenis_elem = kost.find_element(By.CLASS_NAME, \"rc-photo__controlled-room__brand-icon\")\n",
        "                    img_src = jenis_elem.find_element(By.TAG_NAME, \"img\").get_attribute(\"data-src\")\n",
        "                    if \"singgahsini\" in img_src.lower():\n",
        "                        jenis_kost = \"singgahsini\"\n",
        "                    elif \"apik\" in img_src.lower():\n",
        "                        jenis_kost = \"apik\"\n",
        "                except:\n",
        "                    jenis_kost = \"tanpa-jenis\"\n",
        "\n",
        "                #ambil tipe berdasarkan labelnya\n",
        "                tipe_kost = \"campur\"\n",
        "                tipe_elem = kost.find_elements(By.CLASS_NAME, \"rc-overview__label\")\n",
        "                if tipe_elem:\n",
        "                    tipe_text = tipe_elem[0].text.lower()\n",
        "                    if \"putra\" in tipe_text:\n",
        "                        tipe_kost = \"putra\"\n",
        "                    elif \"putri\" in tipe_text:\n",
        "                        tipe_kost = \"putri\"\n",
        "\n",
        "                #ambil harga, kemudian beri label jika > 1000000/bulan = eksklusif\n",
        "                harga_kost = \"murah\"\n",
        "                harga_elem = kost.find_element(By.CLASS_NAME, \"rc-price__text\").text\n",
        "                harga_numerik = int(re.sub(r'\\D', '', harga_elem))\n",
        "                if harga_numerik >= 999999:\n",
        "                    harga_kost = \"eksklusif\"\n",
        "\n",
        "                #ambil nama\n",
        "                nama_kost_elem = kost.find_element(By.CLASS_NAME, \"rc-info__name\").text.lower()\n",
        "                nama_kost = re.sub(r'\\.', '', nama_kost_elem)\n",
        "                nama_kost = re.sub(r'[^a-z0-9]+', '-', nama_kost).strip('-')\n",
        "                nama_kost = nama_kost.replace(\"kost-\", \"\")\n",
        "\n",
        "                #ambil lokasi yang tercantum\n",
        "                lokasi_kost_elem = kost.find_element(By.CLASS_NAME, \"rc-info__location\").text.lower()\n",
        "                lokasi_kost = re.sub(r'[^a-z0-9]+', '-', lokasi_kost_elem).strip('-')\n",
        "                lokasi_kost = lokasi_kost.replace(\"kecamatan-\", \"\").replace(\"kelurahan-\", \"\")\n",
        "\n",
        "                #generate urlnya berdasarkan pattern  kost-kota-{area}-{tipe_kost}-{harga_kost}-kost-{jenis_kost}-{nama_kost}-{lokasi_kost}-{area}\n",
        "                #some case gapake kota jadi           kost-{area}-lalala-{area}\n",
        "                #another case pake kabupaten jadi     kost-kabupaten-{area}-lalala-{area}\n",
        "                #sesuaikan urlnya aja\n",
        "\n",
        "                kost_url = f\"https://mamikos.com/room/kost-{kota}-{area}-kost-{tipe_kost}-{harga_kost}-kost-{jenis_kost}-{nama_kost}-{lokasi_kost}-{area}\"\n",
        "                kost_url = kost_url.replace(\"-tanpa-jenis\",\"\")\n",
        "                kost = {\n",
        "                    \"url\":kost_url,\n",
        "                    \"nama\":nama_kost,\n",
        "                    \"lokasi_kost\":lokasi_kost,\n",
        "                    \"harga_kost\": {},\n",
        "                    \"status_cek\":None, #sukses/fail\n",
        "                    \"deskripsi\":None, #cerita pemilik\n",
        "                    \"deskripsi_additional\":None, #Catatan tambahan seputar fasilitas\n",
        "                    \"fasilitas\": {}, #fac lalala\n",
        "                    \"review\":{} #kebersihan, kenyamanan lalala\n",
        "                }\n",
        "                all_kost_data.append(kost)\n",
        "\n",
        "          #click next button untuk halaman selanjutnya\n",
        "          link = last_element.find_element(By.TAG_NAME, \"a\")\n",
        "          link.click()\n",
        "\n",
        "          WebDriverWait(driver, 5).until(\n",
        "              EC.presence_of_element_located((By.CLASS_NAME, \"room-list__card\"))\n",
        "          )\n",
        "          WebDriverWait(driver, 0.5).until(\n",
        "              EC.presence_of_element_located((By.CLASS_NAME, \"pagination\"))\n",
        "          )\n",
        "          next_element = driver.find_element(By.CLASS_NAME, \"pagination\")\n",
        "          next = next_element.find_elements(By.TAG_NAME, \"li\")\n",
        "          last_element = next[-1]\n",
        "  except Exception as e:\n",
        "      print(f\"Terjadi kesalahan saat memuat halaman utama: {e}\")\n",
        "\n",
        "  finally:\n",
        "      driver.quit()\n",
        "\n",
        "  #simpen dulu biar bisa lanjut nanti\n",
        "  dfAllData = pd.DataFrame(all_kost_data)\n",
        "  dfAllData.to_excel(\"/content/drive/MyDrive/BatchScrapt/\"+url.replace(\"https://mamikos.com/kost/\",\"\")+\".xlsx\", index=False)"
      ]
    },
    {
      "cell_type": "code",
      "source": [
        "#surabaya\n",
        "urlKost = [\n",
        "    \"https://mamikos.com/kost/kost-dekat-unair-surabaya-murah\",\n",
        "    \"https://mamikos.com/kost/kost-dekat-its-surabaya-murah\",\n",
        "    \"https://mamikos.com/kost/kost-dekat-unesa-surabaya-murah\",\n",
        "    \"https://mamikos.com/kost/kost-dekat-upn-surabaya-murah\",\n",
        "    \"https://mamikos.com/kost/kost-dekat-ubaya-universitas-surabaya-murah\",\n",
        "    \"https://mamikos.com/kost/kost-dekat-uin-surabaya-murah\",\n",
        "    \"https://mamikos.com/kost/kost-dekat-uwm-surabaya-murah\",\n",
        "    \"https://mamikos.com/kost/kost-dekat-uk-petra-surabaya-murah\",]\n",
        "for url in urlKost:\n",
        "  getPageData(url,\"surabaya\",\"kota\")"
      ],
      "metadata": {
        "colab": {
          "base_uri": "https://localhost:8080/"
        },
        "collapsed": true,
        "id": "TjJRpVEmjpFV",
        "outputId": "14618807-5fdf-4014-e4c8-4ced8242f28f"
      },
      "execution_count": null,
      "outputs": [
        {
          "output_type": "stream",
          "name": "stdout",
          "text": [
            "Menunggu elemen 'room-list__card' muncul...\n",
            "Popup appeared!\n",
            "Menunggu elemen 'room-list__card' muncul...\n",
            "Popup appeared!\n",
            "Menunggu elemen 'room-list__card' muncul...\n",
            "Popup appeared!\n",
            "Menunggu elemen 'room-list__card' muncul...\n",
            "Popup appeared!\n",
            "Menunggu elemen 'room-list__card' muncul...\n",
            "Popup appeared!\n",
            "Menunggu elemen 'room-list__card' muncul...\n",
            "Popup appeared!\n",
            "Menunggu elemen 'room-list__card' muncul...\n",
            "Popup appeared!\n",
            "Menunggu elemen 'room-list__card' muncul...\n",
            "Popup appeared!\n"
          ]
        }
      ]
    },
    {
      "cell_type": "code",
      "source": [
        "#jogja\n",
        "urlKost = [\n",
        "    \"https://mamikos.com/kost/kost-dekat-ugm-murah\",\n",
        "    \"https://mamikos.com/kost/kost-dekat-uny-jogja-murah\",\n",
        "    \"https://mamikos.com/kost/kost-dekat-umy-murah\",\n",
        "    \"https://mamikos.com/kost/kost-dekat-uin-jogja-murah\",\n",
        "    \"https://mamikos.com/kost/kost-dekat-upn-jogja-murah\",\n",
        "    \"https://mamikos.com/kost/kost-dekat-usd-jogja-murah\",\n",
        "    \"https://mamikos.com/kost/kost-dekat-uad-jogja-murah\",\n",
        "    \"https://mamikos.com/kost/kost-dekat-uty-jogja-murah\",\n",
        "    \"https://mamikos.com/kost/kost-dekat-atmajaya-jogja-murah\",\n",
        "    \"https://mamikos.com/kost/kost-dekat-stie-ykpn-jogja-murah\",]\n",
        "for url in urlKost:\n",
        "  getPageData(url,\"yogyakarta\",\"kota\")"
      ],
      "metadata": {
        "colab": {
          "base_uri": "https://localhost:8080/"
        },
        "collapsed": true,
        "id": "CdWF4apk1Jhq",
        "outputId": "a824f972-2185-4202-cb0c-1f246d7bbad6"
      },
      "execution_count": null,
      "outputs": [
        {
          "output_type": "stream",
          "name": "stdout",
          "text": [
            "Menunggu elemen 'room-list__card' muncul...\n",
            "Popup appeared!\n",
            "Menunggu elemen 'room-list__card' muncul...\n",
            "Popup appeared!\n",
            "Menunggu elemen 'room-list__card' muncul...\n",
            "Popup appeared!\n",
            "Menunggu elemen 'room-list__card' muncul...\n",
            "Popup appeared!\n",
            "Menunggu elemen 'room-list__card' muncul...\n",
            "Popup appeared!\n",
            "Menunggu elemen 'room-list__card' muncul...\n",
            "Popup appeared!\n",
            "Menunggu elemen 'room-list__card' muncul...\n",
            "Popup appeared!\n",
            "Menunggu elemen 'room-list__card' muncul...\n",
            "Popup appeared!\n",
            "Menunggu elemen 'room-list__card' muncul...\n",
            "Popup appeared!\n",
            "Menunggu elemen 'room-list__card' muncul...\n",
            "Popup appeared!\n"
          ]
        }
      ]
    },
    {
      "cell_type": "code",
      "source": [
        "#jakarta\n",
        "urlKost = [\n",
        "    \"https://mamikos.com/kost/kost-dekat-stan-jakarta-murah\",\n",
        "    \"https://mamikos.com/kost/kost-dekat-uin-jakarta-murah\",\n",
        "    \"https://mamikos.com/kost/kost-dekat-unj-jakarta-murah\",\n",
        "    \"https://mamikos.com/kost/kost-dekat-binus-kemanggisan-murah\",\n",
        "    \"https://mamikos.com/kost/kost-dekat-ui-depok-murah\",\n",
        "    \"https://mamikos.com/kost/kost-dekat-binus-alam-sutra-murah\",\n",
        "    \"https://mamikos.com/kost/kost-dekat-atma-jaya-jakarta-murah\",\n",
        "    \"https://mamikos.com/kost/kost-dekat-trisakti-murah\",\n",
        "    \"https://mamikos.com/kost/kost-dekat-untar-murah\",\n",
        "    \"https://mamikos.com/kost/kost-dekat-uph-jakarta-murah\",\n",
        "    \"https://mamikos.com/kost/kost-dekat-gunadarma-kelapa-dua-murah\"]\n",
        "for url in urlKost:\n",
        "  getPageData(url,\"jakarta\",\"kota\")"
      ],
      "metadata": {
        "id": "d2x7UCrMRaH2"
      },
      "execution_count": null,
      "outputs": []
    },
    {
      "cell_type": "code",
      "source": [
        "#bandung\n",
        "urlKost = [\n",
        "    \"https://mamikos.com/kost/kost-dekat-itb-murah\",\n",
        "    \"https://mamikos.com/kost/kost-dekat-upi-bandung-murah\",\n",
        "    \"https://mamikos.com/kost/kost-dekat-telkom-bandung-murah\",\n",
        "    \"https://mamikos.com/kost/kost-dekat-uin-bandung-murah\",\n",
        "    \"https://mamikos.com/kost/kost-dekat-unpar-bandung-murah\",\n",
        "    \"https://mamikos.com/kost/kost-dekat-maranatha-bandung-murah\",\n",
        "    \"https://mamikos.com/kost/kost-dekat-unpad-jatinangor-murah\",\n",
        "    \"https://mamikos.com/kost/kost-dekat-unpad-dipatiukur-murah\",\n",
        "    \"https://mamikos.com/kost/kost-dekat-unikom-bandung-murah\",\n",
        "    \"https://mamikos.com/kost/kost-dekat-unisba-bandung-murah\",\n",
        "    \"https://mamikos.com/kost/kost-dekat-unjani-bandung-murah\",\n",
        "    \"https://mamikos.com/kost/kost-dekat-itenas-bandung-murah\",\n",
        "    \"https://mamikos.com/kost/kost-dekat-widyatama-bandung-murah\",]\n",
        "for url in urlKost:\n",
        "  getPageData(url,\"bandung\",\"kota\")"
      ],
      "metadata": {
        "id": "IGsssAZ6RbIU"
      },
      "execution_count": null,
      "outputs": []
    },
    {
      "cell_type": "code",
      "source": [
        "kabupaten_badung = [\n",
        "    \"https://mamikos.com/kost/kost-jimbaran-badung-bali-murah\",\n",
        "    \"https://mamikos.com/kost/kost-kerobokan-badung-bali-murah\",\n",
        "    \"https://mamikos.com/kost/kost-seminyak-kuta-badung-bali-murah\",\n",
        "    \"https://mamikos.com/kost/kost-canggu-badung-bali-murah\",\n",
        "    \"https://mamikos.com/kost/kost-kuta-badung-bali-murah\"\n",
        "]\n",
        "for url in kabupaten_badung:\n",
        "  getPageData(url,\"badung\",\"kabupaten\")\n",
        "\n",
        "kota_denpasar = [\n",
        "    \"https://mamikos.com/kost/kost-renon-denpasar-bali-murah\",\n",
        "    \"https://mamikos.com/kost/kost-jalan-glogor-carik-bali-murah\",\n",
        "    \"https://mamikos.com/kost/kost-panjer-denpasar-bali-murah\",\n",
        "    \"https://mamikos.com/kost/kost-pantai-sanur-bali-murah\",\n",
        "    \"https://mamikos.com/kost/kost-dekat-bandara-ngurah-rai-dps-bali-murah\"\n",
        "]\n",
        "for url in kota_denpasar:\n",
        "  getPageData(url,\"denpasar\",\"kota\")"
      ],
      "metadata": {
        "colab": {
          "base_uri": "https://localhost:8080/"
        },
        "id": "m50FZWvrgQ3b",
        "outputId": "78a86b44-c413-48c6-ce00-68c684c466ff"
      },
      "execution_count": null,
      "outputs": [
        {
          "output_type": "stream",
          "name": "stdout",
          "text": [
            "Menunggu elemen 'room-list__card' muncul...\n",
            "Popup appeared!\n",
            "Menunggu elemen 'room-list__card' muncul...\n",
            "Popup appeared!\n",
            "Menunggu elemen 'room-list__card' muncul...\n",
            "Popup appeared!\n",
            "Menunggu elemen 'room-list__card' muncul...\n",
            "Popup appeared!\n",
            "Menunggu elemen 'room-list__card' muncul...\n",
            "Popup appeared!\n",
            "Menunggu elemen 'room-list__card' muncul...\n",
            "Popup appeared!\n",
            "Menunggu elemen 'room-list__card' muncul...\n",
            "Popup appeared!\n",
            "Menunggu elemen 'room-list__card' muncul...\n",
            "Popup appeared!\n",
            "Menunggu elemen 'room-list__card' muncul...\n",
            "Popup appeared!\n",
            "Menunggu elemen 'room-list__card' muncul...\n",
            "Popup appeared!\n"
          ]
        }
      ]
    },
    {
      "cell_type": "code",
      "source": [
        "kota_malang = [\n",
        "    \"https://mamikos.com/kost/kost-suhat-malang-murah\",\n",
        "    \"https://mamikos.com/kost/kost-batu-malang-murah\",\n",
        "    \"https://mamikos.com/kost/kost-blimbing-malang-murah\",\n",
        "    \"https://mamikos.com/kost/kost-sigura-gura-malang-murah\",\n",
        "    \"https://mamikos.com/kost/kost-lowokwaru-malang-murah\",\n",
        "    \"https://mamikos.com/kost/kost-klojen-malang-murah\",\n",
        "    \"https://mamikos.com/kost/kost-singosari-malang-murah\",\n",
        "    \"https://mamikos.com/kost/kost-sukun-malang-murah\",\n",
        "    \"https://mamikos.com/kost/kost-sumbersari-malang-murah\",\n",
        "    \"https://mamikos.com/kost/kost-dinoyo-malang-murah\",\n",
        "    \"https://mamikos.com/kost/kost-dekat-stasiun-kepanjen-malang-murah\"\n",
        "]\n",
        "\n",
        "kota_semarang = [\n",
        "    \"https://mamikos.com/kost/kost-tembalang-semarang-murah\",\n",
        "    \"https://mamikos.com/kost/kost-ngaliyan-semarang-murah\",\n",
        "    \"https://mamikos.com/kost/kost-banyumanik-semarang-murah\",\n",
        "    \"https://mamikos.com/kost/kost-ungaran-barat-semarang-murah\",\n",
        "    \"https://mamikos.com/kost/kost-pedurungan-semarang-murah\",\n",
        "    \"https://mamikos.com/kost/kost-sampangan-semarang-murah\",\n",
        "    \"https://mamikos.com/kost/kost-pleburan-semarang-selatan-murah\",\n",
        "    \"https://mamikos.com/kost/kost-semarang-timur-murah\",\n",
        "    \"https://mamikos.com/kost/kost-gajah-mungkur-semarang-murah\",\n",
        "    \"https://mamikos.com/kost/kost-genuk-semarang-murah\",\n",
        "    \"https://mamikos.com/kost/kost-gayamsari-semarang-murah\",\n",
        "    \"https://mamikos.com/kost/kost-dekat-semarang-tawang-murah\"\n",
        "]\n",
        "\n",
        "kota_surabaya = [\n",
        "    \"https://mamikos.com/kost/kost-rungkut-surabaya-murah\",\n",
        "    \"https://mamikos.com/kost/kost-surabaya-barat-murah\",\n",
        "    \"https://mamikos.com/kost/kost-ketintang-surabaya-murah\",\n",
        "    \"https://mamikos.com/kost/kost-ngagel-surabaya-murah\",\n",
        "    \"https://mamikos.com/kost/kost-gubeng-surabaya-murah\",\n",
        "    \"https://mamikos.com/kost/kost-mulyorejo-surabaya-murah\",\n",
        "    \"https://mamikos.com/kost/kost-wiyung-surabaya-murah\",\n",
        "    \"https://mamikos.com/kost/kost-surabaya-timur-murah\",\n",
        "    \"https://mamikos.com/kost/kost-dukuh-pakis-surabaya-murah\",\n",
        "    \"https://mamikos.com/kost/kost-wonokromo-surabaya-murah\",\n",
        "    \"https://mamikos.com/kost/kost-dekat-bandara-juanda-surabaya-murah\",\n",
        "    \"https://mamikos.com/kost/kost-dekat-stasiun-gubeng-surabaya-murah\"\n",
        "]\n",
        "\n",
        "for url in kota_malang:\n",
        "  getPageData(url,\"malang\",\"kota\")\n",
        "for url in kota_semarang:\n",
        "  getPageData(url,\"semarang\",\"kota\")\n",
        "for url in kota_surabaya:\n",
        "  getPageData(url,\"surabaya\",\"kota\")"
      ],
      "metadata": {
        "colab": {
          "base_uri": "https://localhost:8080/"
        },
        "id": "8MtHmhmogVvQ",
        "outputId": "6d15a7be-8880-4a2d-bec7-17f11622ac30"
      },
      "execution_count": 7,
      "outputs": [
        {
          "output_type": "stream",
          "name": "stdout",
          "text": [
            "Menunggu elemen 'room-list__card' muncul...\n",
            "Popup appeared!\n",
            "Menunggu elemen 'room-list__card' muncul...\n",
            "Popup appeared!\n",
            "Menunggu elemen 'room-list__card' muncul...\n",
            "Popup appeared!\n",
            "Menunggu elemen 'room-list__card' muncul...\n",
            "Popup appeared!\n",
            "Menunggu elemen 'room-list__card' muncul...\n",
            "Popup appeared!\n",
            "Menunggu elemen 'room-list__card' muncul...\n",
            "Popup appeared!\n",
            "Menunggu elemen 'room-list__card' muncul...\n",
            "Popup appeared!\n",
            "Menunggu elemen 'room-list__card' muncul...\n",
            "Popup appeared!\n",
            "Menunggu elemen 'room-list__card' muncul...\n",
            "Popup appeared!\n",
            "Menunggu elemen 'room-list__card' muncul...\n",
            "Popup appeared!\n",
            "Menunggu elemen 'room-list__card' muncul...\n",
            "Popup appeared!\n",
            "Menunggu elemen 'room-list__card' muncul...\n",
            "Popup appeared!\n",
            "Menunggu elemen 'room-list__card' muncul...\n",
            "Popup appeared!\n",
            "Menunggu elemen 'room-list__card' muncul...\n",
            "Popup appeared!\n",
            "Menunggu elemen 'room-list__card' muncul...\n",
            "Popup appeared!\n",
            "Menunggu elemen 'room-list__card' muncul...\n",
            "Popup appeared!\n",
            "Menunggu elemen 'room-list__card' muncul...\n",
            "Popup appeared!\n",
            "Menunggu elemen 'room-list__card' muncul...\n",
            "Popup appeared!\n",
            "Menunggu elemen 'room-list__card' muncul...\n",
            "Popup appeared!\n",
            "Menunggu elemen 'room-list__card' muncul...\n",
            "Popup appeared!\n",
            "Menunggu elemen 'room-list__card' muncul...\n",
            "Popup appeared!\n",
            "Menunggu elemen 'room-list__card' muncul...\n",
            "Popup appeared!\n",
            "Menunggu elemen 'room-list__card' muncul...\n",
            "Popup appeared!\n",
            "Menunggu elemen 'room-list__card' muncul...\n",
            "Popup appeared!\n",
            "Menunggu elemen 'room-list__card' muncul...\n",
            "Popup appeared!\n",
            "Menunggu elemen 'room-list__card' muncul...\n",
            "Popup appeared!\n",
            "Menunggu elemen 'room-list__card' muncul...\n",
            "Popup appeared!\n",
            "Menunggu elemen 'room-list__card' muncul...\n",
            "Popup appeared!\n",
            "Menunggu elemen 'room-list__card' muncul...\n",
            "Popup appeared!\n",
            "Menunggu elemen 'room-list__card' muncul...\n",
            "Popup appeared!\n"
          ]
        }
      ]
    },
    {
      "cell_type": "code",
      "source": [
        "import pandas as pd\n",
        "import os\n",
        "\n",
        "def combine_excel_files(folder_path, output_file):\n",
        "    all_dataframes = []\n",
        "    for filename in os.listdir(folder_path):\n",
        "        if filename.endswith(\".xlsx\"):\n",
        "            file_path = os.path.join(folder_path, filename)\n",
        "            try:\n",
        "                df = pd.read_excel(file_path)\n",
        "                all_dataframes.append(df)\n",
        "            except Exception as e:\n",
        "                print(f\"Error reading file {filename}: {e}\")\n",
        "\n",
        "    if not all_dataframes:\n",
        "        print(\"No Excel files found in the specified folder.\")\n",
        "        return\n",
        "\n",
        "    combined_df = pd.concat(all_dataframes, ignore_index=True)\n",
        "    combined_df.to_excel(output_file, index=False)\n",
        "    print(f\"Combined Excel data saved to {output_file}\")\n",
        "\n",
        "folder_path = \"/content/drive/MyDrive/BatchScrapt\"\n",
        "output_file = \"/content/drive/MyDrive/BatchScrapt/combined_data.xlsx\"\n",
        "combine_excel_files(folder_path, output_file)"
      ],
      "metadata": {
        "colab": {
          "base_uri": "https://localhost:8080/"
        },
        "id": "tnK0Cg3M1xCq",
        "outputId": "a6d57e63-28eb-460b-f6f5-364c13060a43"
      },
      "execution_count": 8,
      "outputs": [
        {
          "output_type": "stream",
          "name": "stdout",
          "text": [
            "Combined Excel data saved to /content/drive/MyDrive/BatchScrapt/combined_data.xlsx\n"
          ]
        }
      ]
    },
    {
      "cell_type": "code",
      "execution_count": 9,
      "metadata": {
        "colab": {
          "base_uri": "https://localhost:8080/"
        },
        "id": "cQkO-XvbkH5V",
        "outputId": "6c57b916-4087-4640-d503-08745bc924d8"
      },
      "outputs": [
        {
          "output_type": "stream",
          "name": "stdout",
          "text": [
            "https://mamikos.com/room/kost-kabupaten-badung-kost-putri-eksklusif-kost-pondok-ebira-standart-ac-kuta-utara-badung\n"
          ]
        }
      ],
      "source": [
        "all_kost_data = pd.read_excel(\"/content/drive/MyDrive/BatchScrapt/combined_data.xlsx\").to_dict(orient='records')\n",
        "# pastikan dapet urlnya\n",
        "for kost in all_kost_data:\n",
        "  print(kost.get(\"url\"))\n",
        "  break\n",
        "new_kost_data = []"
      ]
    },
    {
      "cell_type": "code",
      "execution_count": null,
      "metadata": {
        "id": "EunONFXyl3dR"
      },
      "outputs": [],
      "source": [
        "#ambil sampe 10 data buat coba coba\n",
        "sample_data = all_kost_data[:10]"
      ]
    },
    {
      "cell_type": "code",
      "execution_count": 10,
      "metadata": {
        "collapsed": true,
        "id": "6wYdVF2imc3p",
        "colab": {
          "base_uri": "https://localhost:8080/"
        },
        "outputId": "a8f24aa9-92e1-44f0-98b5-f5fc4361f9e9"
      },
      "outputs": [
        {
          "metadata": {
            "tags": null
          },
          "name": "stdout",
          "output_type": "stream",
          "text": [
            "Tidak dapat menemukan detail data.\n",
            "https://mamikos.com/room/kost-kabupaten-badung-kost-campur-eksklusif-kost-the-aulia-stay-kuta-selatan-badung\n",
            "Tidak dapat menemukan detail data.\n",
            "https://mamikos.com/room/kost-kabupaten-badung-kost-campur-eksklusif-kost-graha-pertiwi-tipe-a-kuta-utara-badung\n",
            "Tidak dapat menemukan detail data.\n",
            "https://mamikos.com/room/kost-kota-denpasar-kost-campur-eksklusif-kost-oemah-fazilla-denpasar-selatan-denpasar\n",
            "Tidak dapat menemukan detail data.\n",
            "https://mamikos.com/room/kost-kota-denpasar-kost-campur-eksklusif-kost-pondok-48-denpasar-selatan-denpasar\n",
            "Tidak dapat menemukan detail data.\n",
            "https://mamikos.com/room/kost-kota-denpasar-kost-campur-murah-kost-cahaya-jiwa-tipe-a-denpasar-barat-denpasar\n",
            "Tidak dapat menemukan detail data.\n",
            "https://mamikos.com/room/kost-kota-malang-kost-putra-murah-kost-pak-ateng-lowokwaru-malang\n",
            "Tidak dapat menemukan detail data.\n",
            "https://mamikos.com/room/kost-kota-malang-kost-putra-murah-kost-kerto-asri-tipe-a-lowokwaru-malang\n",
            "Tidak dapat menemukan detail data.\n",
            "https://mamikos.com/room/kost-kota-malang-kost-putri-murah-kost-sudjai-sukun-malang\n",
            "Tidak dapat menemukan detail data.\n",
            "https://mamikos.com/room/kost-kota-malang-kost-putri-murah-kost-dinoyo-permai-lowokwaru-malang\n",
            "Tidak dapat menemukan detail data.\n",
            "https://mamikos.com/room/kost-kota-malang-kost-putri-murah-kost-putri-muslim-lowokwaru-malang\n",
            "Tidak dapat menemukan detail data.\n",
            "https://mamikos.com/room/kost-kota-semarang-kost-putri-eksklusif-kost-lg-exclusive-erlangga-semarang-selatan-semarang\n",
            "Tidak dapat menemukan detail data.\n",
            "https://mamikos.com/room/kost-kota-semarang-kost-putri-eksklusif-kost-sriwijaya-tipe-a-candisari-semarang\n",
            "Tidak dapat menemukan detail data.\n",
            "https://mamikos.com/room/kost-kota-semarang-kost-campur-eksklusif-kost-sriwijaya-tipe-ac-candisari-semarang\n",
            "Tidak dapat menemukan detail data.\n",
            "https://mamikos.com/room/kost-kota-semarang-kost-putri-eksklusif-kost-four-dhee-tipe-b-gayamsari-semarang\n",
            "Tidak dapat menemukan detail data.\n",
            "https://mamikos.com/room/kost-kota-surabaya-kost-putri-murah-kost-bu-ita-tipe-a-gayungan-surabaya\n",
            "Tidak dapat menemukan detail data.\n",
            "https://mamikos.com/room/kost-kota-surabaya-kost-putri-eksklusif-kost-happy-tipe-a-gayungan-surabaya\n"
          ]
        }
      ],
      "source": [
        "# proses satu satu, pastikan new_kost_data kosong, gunakan sample_data untuk testing\n",
        "new_kost_data = []\n",
        "fail_kost_data = []\n",
        "# for kost in sample_data:\n",
        "for kost in all_kost_data:\n",
        "    try:\n",
        "        headers = {\n",
        "          \"User-Agent\": \"Mozilla/5.0 (Windows NT 10.0; Win64; x64) AppleWebKit/537.36 (KHTML, like Gecko) Chrome/109.0.0.0 Safari/537.36\",\n",
        "          # \"Referer\": \"https://www.example.com\",\n",
        "          \"Accept-Language\": \"en-US,en;q=0.9\",\n",
        "          \"Connection\": \"keep-alive\"\n",
        "        }\n",
        "        url = kost.get(\"url\")\n",
        "        response = requests.get(url, allow_redirects=True, headers=headers)\n",
        "        time.sleep(2)\n",
        "        final_url = response.url\n",
        "        if(final_url == \"https://mamikos.com\"):\n",
        "          kost[\"status_cek\"] = \"FAIL\"\n",
        "          # url2 = url.replace(\"kost-kota-\",\"kost-\")\n",
        "          # response = requests.get(url2, allow_redirects=True, headers=headers)\n",
        "          # time.sleep(1)\n",
        "          # final_url = response.url\n",
        "          # if(final_url == \"https://mamikos.com\"):\n",
        "          #   kost[\"status_cek\"] = \"FAIL\"\n",
        "          #   fail_kost_data.append(kost)\n",
        "          # else:\n",
        "          #   kost[\"status_cek\"] = \"SUKSES\"\n",
        "          #   new_data = get_detail(response, url2, kost)\n",
        "          #   new_kost_data.append(new_data)\n",
        "        else:\n",
        "          kost[\"status_cek\"] = \"SUKSES\"\n",
        "          new_data = get_detail(response, url, kost)\n",
        "          new_kost_data.append(new_data)\n",
        "\n",
        "    except Exception as e:\n",
        "        print(f\"[ERROR] Gagal mengakses URL: Error: {e}\")\n",
        "\n",
        "#yang gagal disimpen buat diubah urlnya manual"
      ]
    },
    {
      "cell_type": "code",
      "execution_count": 11,
      "metadata": {
        "id": "bHtOtqz4hviW"
      },
      "outputs": [],
      "source": [
        "#beautify\n",
        "def process_kost_data(kost_data):\n",
        "    \"\"\"Processes the kost data and returns a structured DataFrame.\"\"\"\n",
        "    processed_data = []\n",
        "\n",
        "    for kost in kost_data:\n",
        "        if kost is None:\n",
        "            continue  # Skip if kost data is None\n",
        "        if kost.get(\"status_cek\") != \"SUKSES\":\n",
        "            continue  # Skip if status_cek is not \"SUKSES\"\n",
        "\n",
        "        # Initialize dictionary for processed kost\n",
        "        processed_kost = {\n",
        "            'url': kost.get('url', ''),\n",
        "            'nama': kost.get('nama', ''),\n",
        "            'alamat': kost.get('lokasi_kost', None),  # Use None for missing data\n",
        "            'lokasi_kost': kost.get('lokasi_kost', ''),\n",
        "            'status_cek': kost.get('status_cek', ''),\n",
        "            'deskripsi': kost.get('deskripsi', None),  # Handle missing description\n",
        "            'deskripsi_additional': kost.get('deskripsi_additional', None),\n",
        "            'ukuran': kost.get('ukuran', None),  # Handle missing ukuran\n",
        "        }\n",
        "\n",
        "        # Process harga_kost (Ensure it is always a dictionary)\n",
        "        harga = kost.get('harga_kost', '{}')  # Default to '{}' if missing\n",
        "        if isinstance(harga, str):  # If it's a string, try to convert it\n",
        "            try:\n",
        "                harga = json.loads(harga)  # Convert string to dictionary if it's a valid JSON string\n",
        "            except json.JSONDecodeError:\n",
        "                harga = {}  # If it can't be decoded, use an empty dictionary\n",
        "\n",
        "        # Process the harga_kost dictionary\n",
        "        for key, value in harga.items():\n",
        "            processed_kost[f'harga_{key}'] = value\n",
        "\n",
        "        # Process fasilitas (Handle missing or empty categories)\n",
        "        fasilitas = kost.get('fasilitas', '{}')  # Default to '{}' if missing\n",
        "        if isinstance(fasilitas, str):  # If it's a string, try to convert it\n",
        "            try:\n",
        "                fasilitas = json.loads(fasilitas)  # Convert string to dictionary if it's a valid JSON string\n",
        "            except json.JSONDecodeError:\n",
        "                fasilitas = {}  # If it can't be decoded, use an empty dictionary\n",
        "\n",
        "        # Process the fasilitas dictionary\n",
        "        for category, items in fasilitas.items():\n",
        "            processed_kost[f'fasilitas_{category}'] = ', '.join(items) if isinstance(items, list) else ''\n",
        "\n",
        "        # Process review (Handle missing or empty reviews)\n",
        "        review = kost.get('review', '{}')  # Default to '{}' if missing\n",
        "        if isinstance(review, str):  # If it's a string, try to convert it\n",
        "            try:\n",
        "                review = json.loads(review)  # Convert string to dictionary if it's a valid JSON string\n",
        "            except json.JSONDecodeError:\n",
        "                review = {}  # If it can't be decoded, use an empty dictionary\n",
        "\n",
        "        # Process the review dictionary\n",
        "        for key, value in review.items():\n",
        "            if key:  # Skip empty key\n",
        "                processed_kost[f'review_{key}'] = value\n",
        "\n",
        "        # Append the processed kost to the list\n",
        "        processed_data.append(processed_kost)\n",
        "\n",
        "    # Convert processed data to DataFrame\n",
        "    return pd.DataFrame(processed_data)"
      ]
    },
    {
      "cell_type": "code",
      "execution_count": null,
      "metadata": {
        "id": "I3btY7JSBkZo"
      },
      "outputs": [],
      "source": [
        "# print(new_kost_data)"
      ]
    },
    {
      "cell_type": "code",
      "execution_count": 12,
      "metadata": {
        "id": "x015GUdbVkNh"
      },
      "outputs": [],
      "source": [
        "df = process_kost_data(new_kost_data)\n",
        "df.to_excel(\"/content/drive/MyDrive/BatchScraptBanyak.xlsx\", index=False)"
      ]
    }
  ],
  "metadata": {
    "colab": {
      "provenance": [],
      "mount_file_id": "1vH0HlTvaCkiOwCkyJ6ISfO3S8lPcKdUy",
      "authorship_tag": "ABX9TyOyLeSRtRomfpuOP2fh8boH",
      "include_colab_link": true
    },
    "kernelspec": {
      "display_name": "Python 3",
      "name": "python3"
    },
    "language_info": {
      "name": "python"
    }
  },
  "nbformat": 4,
  "nbformat_minor": 0
}